{
 "cells": [
  {
   "cell_type": "code",
   "execution_count": 0,
   "metadata": {
    "application/vnd.databricks.v1+cell": {
     "cellMetadata": {
      "byteLimit": 2048000,
      "rowLimit": 10000
     },
     "inputWidgets": {},
     "nuid": "ac2a5109-1ed2-457c-82af-bb0cb9e79f63",
     "showTitle": false,
     "tableResultSettingsMap": {},
     "title": ""
    }
   },
   "outputs": [],
   "source": [
    "from pyspark.sql import SparkSession\n",
    "from pyspark.sql.functions import regexp_replace, col\n",
    "import time"
   ]
  },
  {
   "cell_type": "code",
   "execution_count": 0,
   "metadata": {
    "application/vnd.databricks.v1+cell": {
     "cellMetadata": {
      "byteLimit": 2048000,
      "rowLimit": 10000
     },
     "inputWidgets": {},
     "nuid": "04cb9dc0-2283-4322-a8e5-10fb164f27af",
     "showTitle": false,
     "tableResultSettingsMap": {},
     "title": ""
    }
   },
   "outputs": [],
   "source": [
    "spark = SparkSession.builder \\\n",
    "    .appName(\"ETL Analysis\") \\\n",
    "    .config(\"spark.jars.packages\", \"org.apache.spark:spark-avro_2.12:3.4.0\") \\\n",
    "    .getOrCreate()"
   ]
  },
  {
   "cell_type": "code",
   "execution_count": 0,
   "metadata": {
    "application/vnd.databricks.v1+cell": {
     "cellMetadata": {
      "byteLimit": 2048000,
      "rowLimit": 10000
     },
     "inputWidgets": {},
     "nuid": "857ad32a-49e8-435d-a721-46560f45b1c5",
     "showTitle": false,
     "tableResultSettingsMap": {},
     "title": ""
    }
   },
   "outputs": [],
   "source": [
    "def extract_spark(file_path):\n",
    "    start_time = time.time()\n",
    "    df = spark.read.csv(file_path, header=True, inferSchema=True)\n",
    "    duration = time.time() - start_time\n",
    "    return df, duration"
   ]
  },
  {
   "cell_type": "code",
   "execution_count": 0,
   "metadata": {
    "application/vnd.databricks.v1+cell": {
     "cellMetadata": {
      "byteLimit": 2048000,
      "rowLimit": 10000
     },
     "inputWidgets": {},
     "nuid": "e28d1a7a-f22d-41d2-a959-e119a445d730",
     "showTitle": false,
     "tableResultSettingsMap": {},
     "title": ""
    }
   },
   "outputs": [],
   "source": [
    "def transform_spark_rename_columns(df):\n",
    "    start_time = time.time()\n",
    "    for col_name in df.columns:\n",
    "        df = df.withColumnRenamed(col_name, f\"{col_name}_new\")\n",
    "    duration = time.time() - start_time\n",
    "    return duration\n",
    "    \n",
    "def transform_spark_drop_na(df):\n",
    "    start_time = time.time()\n",
    "    df = df.dropna()\n",
    "    duration = time.time() - start_time\n",
    "    return duration"
   ]
  },
  {
   "cell_type": "code",
   "execution_count": 0,
   "metadata": {
    "application/vnd.databricks.v1+cell": {
     "cellMetadata": {
      "byteLimit": 2048000,
      "rowLimit": 10000
     },
     "inputWidgets": {},
     "nuid": "74cf0716-9e71-4fba-80b5-5b5dfbb78e8e",
     "showTitle": false,
     "tableResultSettingsMap": {},
     "title": ""
    }
   },
   "outputs": [],
   "source": [
    "def get_file_size(path):\n",
    "    file_info = dbutils.fs.ls(path)\n",
    "    total_size = sum(f.size for f in file_info if f.isFile())\n",
    "    return total_size"
   ]
  },
  {
   "cell_type": "code",
   "execution_count": 0,
   "metadata": {
    "application/vnd.databricks.v1+cell": {
     "cellMetadata": {
      "byteLimit": 2048000,
      "rowLimit": 10000
     },
     "inputWidgets": {},
     "nuid": "70783297-6372-4c01-be9f-c882906d511e",
     "showTitle": false,
     "tableResultSettingsMap": {},
     "title": ""
    }
   },
   "outputs": [],
   "source": [
    "def load_spark_csv(df, output_path):\n",
    "    start_time = time.time()\n",
    "    df.write.csv(output_path, header=True, mode='overwrite')\n",
    "    duration = time.time() - start_time\n",
    "\n",
    "    file_size = get_file_size(output_path)\n",
    "\n",
    "    return duration, file_size\n",
    "\n",
    "\n",
    "def load_spark_delta(df, output_path):\n",
    "    start_time = time.time()\n",
    "    df.write.format(\"delta\").mode(\"overwrite\").save(output_path)\n",
    "    duration = time.time() - start_time\n",
    "\n",
    "    file_size = get_file_size(output_path)\n",
    "\n",
    "    return duration, file_size\n",
    "\n",
    "\n",
    "def load_spark_parquet(df, output_path):\n",
    "    start_time = time.time()\n",
    "    df.write.parquet(output_path, mode='overwrite')\n",
    "    duration = time.time() - start_time\n",
    "\n",
    "    file_size = get_file_size(output_path)\n",
    "\n",
    "    return duration, file_size\n",
    "\n",
    "\n",
    "def load_spark_avro(df, output_path):\n",
    "    start_time = time.time()\n",
    "    df.write.format(\"avro\").mode(\"overwrite\").save(output_path)\n",
    "    duration = time.time() - start_time\n",
    "\n",
    "    file_size = get_file_size(output_path)\n",
    "\n",
    "    return duration, file_size\n",
    "\n",
    "\n",
    "def load_spark_orc(df, output_path):\n",
    "\n",
    "    start_time = time.time()\n",
    "    df.write.format(\"orc\").mode(\"overwrite\").option(\"mergeSchema\", \"true\").save(output_path)\n",
    "    duration = time.time() - start_time\n",
    "\n",
    "    file_size = get_file_size(output_path)\n",
    "\n",
    "    return duration, file_size\n"
   ]
  },
  {
   "cell_type": "code",
   "execution_count": 0,
   "metadata": {
    "application/vnd.databricks.v1+cell": {
     "cellMetadata": {
      "byteLimit": 2048000,
      "rowLimit": 10000
     },
     "inputWidgets": {},
     "nuid": "0ad5621e-da03-4f8b-9364-8036d80bc98d",
     "showTitle": false,
     "tableResultSettingsMap": {},
     "title": ""
    }
   },
   "outputs": [
    {
     "output_type": "stream",
     "name": "stdout",
     "output_type": "stream",
     "text": [
      "Process finished successfully!\n"
     ]
    }
   ],
   "source": [
    "datasets = ['transactions_data.csv', 'titanic.csv', 'reviews.csv', 'locations.csv']\n",
    "\n",
    "dim_datasets = []\n",
    "fact_metrics = []\n",
    "\n",
    "for index, dataset in enumerate(datasets):\n",
    "    primary_key = index + 1\n",
    "    path = dataset.split('.')[0]\n",
    "    \n",
    "    df_raw, extract_time = extract_spark(f'dbfs:/FileStore/bigdata/{dataset}')\n",
    "    \n",
    "    transform_rename_columns = transform_spark_rename_columns(df_raw)\n",
    "    transform_dropna = transform_spark_drop_na(df_raw)\n",
    "    \n",
    "    load_time_csv, file_size_csv = load_spark_csv(df_raw, f\"/dbfs/FileStore/bigdata/output_spark/{path}/csv\")\n",
    "    load_time_delta, file_size_delta = load_spark_delta(df_raw, f\"/dbfs/FileStore/bigdata/output_spark/{path}/delta\")\n",
    "    load_time_parquet, file_size_parquet = load_spark_parquet(df_raw, f\"/dbfs/FileStore/bigdata/output_spark/{path}/parquet\")\n",
    "    load_time_avro, file_size_avro = load_spark_avro(df_raw, f\"/dbfs/FileStore/bigdata/output_spark/{path}/avro\")\n",
    "    load_time_orc, file_size_orc = load_spark_orc(df_raw, f\"/dbfs/FileStore/bigdata/output_orc/{path}/orc\")\n",
    "    \n",
    "    dim_datasets.append({\n",
    "        \"id\": primary_key,\n",
    "        \"dataset_name\": path,\n",
    "        \"number_of_rows\": df_raw.count()\n",
    "    })\n",
    "    \n",
    "    fact_metrics.append({\n",
    "        \"dataset_id\": primary_key,\n",
    "        \"extract_time\": round(extract_time,2),\n",
    "        \"transform_rename_columns_time\": round(transform_rename_columns,2),\n",
    "        \"transform_dropna_time\": round(transform_dropna,2),\n",
    "        \"load_time_csv\": round(load_time_csv,2),\n",
    "        \"file_size_csv_mb\": round(file_size_csv / (1024 * 1024),2),\n",
    "        \"load_time_delta\": round(load_time_delta,2),\n",
    "        \"file_size_delta_mb\": round(file_size_delta / (1024 * 1024),2),\n",
    "        \"load_time_parquet\": round(load_time_parquet,2),\n",
    "        \"file_size_parquet_mb\": round(file_size_parquet / (1024 * 1024),2),\n",
    "        \"load_time_avro\": round(load_time_avro,2),\n",
    "        \"file_size_avro_mb\": round(file_size_avro / (1024 * 1024),2),\n",
    "        \"load_time_orc\": round(load_time_orc,2),\n",
    "        \"file_size_orc_mb\": round(file_size_orc / (1024 * 1024),2)\n",
    "    })\n",
    "    \n",
    "\n",
    "\n",
    "dim_datasets_df = spark.createDataFrame(dim_datasets)\n",
    "fact_metrics_df = spark.createDataFrame(fact_metrics)\n",
    "\n",
    "dim_datasets_df.write.format(\"delta\").mode(\"overwrite\").save(\"/dbfs/FileStore/bigdata/output_spark/dim_datasets\")\n",
    "fact_metrics_df.write.format(\"delta\").mode(\"overwrite\").save(\"/dbfs/FileStore/bigdata/output_spark/fact_metrics_pyspark\")\n",
    "\n",
    "print(\"Process finished successfully!\")"
   ]
  },
  {
   "cell_type": "code",
   "execution_count": 0,
   "metadata": {
    "application/vnd.databricks.v1+cell": {
     "cellMetadata": {
      "byteLimit": 2048000,
      "rowLimit": 10000
     },
     "inputWidgets": {},
     "nuid": "3389fae1-5c3a-4b7a-a104-89d981f4a0da",
     "showTitle": false,
     "tableResultSettingsMap": {},
     "title": ""
    }
   },
   "outputs": [
    {
     "output_type": "display_data",
     "data": {
      "text/html": [
       "<style scoped>\n",
       "  .table-result-container {\n",
       "    max-height: 300px;\n",
       "    overflow: auto;\n",
       "  }\n",
       "  table, th, td {\n",
       "    border: 1px solid black;\n",
       "    border-collapse: collapse;\n",
       "  }\n",
       "  th, td {\n",
       "    padding: 5px;\n",
       "  }\n",
       "  th {\n",
       "    text-align: left;\n",
       "  }\n",
       "</style><div class='table-result-container'><table class='table-result'><thead style='background-color: white'><tr><th>dataset_name</th><th>id</th><th>number_of_rows</th></tr></thead><tbody><tr><td>transactions_data</td><td>1</td><td>13305915</td></tr><tr><td>locations</td><td>4</td><td>845</td></tr><tr><td>titanic</td><td>2</td><td>891</td></tr><tr><td>reviews</td><td>3</td><td>703796</td></tr></tbody></table></div>"
      ]
     },
     "metadata": {
      "application/vnd.databricks.v1+output": {
       "addedWidgets": {},
       "aggData": [],
       "aggError": "",
       "aggOverflow": false,
       "aggSchema": [],
       "aggSeriesLimitReached": false,
       "aggType": "",
       "arguments": {},
       "columnCustomDisplayInfos": {},
       "data": [
        [
         "transactions_data",
         1,
         13305915
        ],
        [
         "locations",
         4,
         845
        ],
        [
         "titanic",
         2,
         891
        ],
        [
         "reviews",
         3,
         703796
        ]
       ],
       "datasetInfos": [],
       "dbfsResultPath": null,
       "isJsonSchema": true,
       "metadata": {},
       "overflow": false,
       "plotOptions": {
        "customPlotOptions": {},
        "displayType": "table",
        "pivotAggregation": null,
        "pivotColumns": null,
        "xColumns": null,
        "yColumns": null
       },
       "removedWidgets": [],
       "schema": [
        {
         "metadata": "{}",
         "name": "dataset_name",
         "type": "\"string\""
        },
        {
         "metadata": "{}",
         "name": "id",
         "type": "\"long\""
        },
        {
         "metadata": "{}",
         "name": "number_of_rows",
         "type": "\"long\""
        }
       ],
       "type": "table"
      }
     },
     "output_type": "display_data"
    }
   ],
   "source": [
    "dim_datasets_df = spark.read.format(\"delta\").load(\"/dbfs/FileStore/bigdata/output_spark/dim_datasets\")\n",
    "dim_datasets_df.display()"
   ]
  },
  {
   "cell_type": "code",
   "execution_count": 0,
   "metadata": {
    "application/vnd.databricks.v1+cell": {
     "cellMetadata": {
      "byteLimit": 2048000,
      "rowLimit": 10000
     },
     "inputWidgets": {},
     "nuid": "31af6adf-f0da-44ca-b9ec-04e17c361668",
     "showTitle": false,
     "tableResultSettingsMap": {},
     "title": ""
    }
   },
   "outputs": [
    {
     "output_type": "display_data",
     "data": {
      "text/html": [
       "<style scoped>\n",
       "  .table-result-container {\n",
       "    max-height: 300px;\n",
       "    overflow: auto;\n",
       "  }\n",
       "  table, th, td {\n",
       "    border: 1px solid black;\n",
       "    border-collapse: collapse;\n",
       "  }\n",
       "  th, td {\n",
       "    padding: 5px;\n",
       "  }\n",
       "  th {\n",
       "    text-align: left;\n",
       "  }\n",
       "</style><div class='table-result-container'><table class='table-result'><thead style='background-color: white'><tr><th>dataset_id</th><th>extract_time</th><th>file_size_avro_mb</th><th>file_size_csv_mb</th><th>file_size_delta_mb</th><th>file_size_orc_mb</th><th>file_size_parquet_mb</th><th>load_time_avro</th><th>load_time_csv</th><th>load_time_delta</th><th>load_time_orc</th><th>load_time_parquet</th><th>transform_dropna_time</th><th>transform_rename_columns_time</th></tr></thead><tbody><tr><td>1</td><td>87.13</td><td>456.16</td><td>1263.69</td><td>4164.48</td><td>267.84</td><td>244.98</td><td>127.41</td><td>181.14</td><td>206.78</td><td>131.53</td><td>129.65</td><td>0.05</td><td>0.36</td></tr><tr><td>4</td><td>1.15</td><td>0.18</td><td>0.35</td><td>2.36</td><td>0.17</td><td>0.18</td><td>1.69</td><td>1.96</td><td>10.11</td><td>2.16</td><td>2.09</td><td>0.02</td><td>0.17</td></tr><tr><td>2</td><td>2.38</td><td>0.04</td><td>0.06</td><td>0.45</td><td>0.03</td><td>0.04</td><td>2.07</td><td>2.52</td><td>11.58</td><td>2.26</td><td>2.39</td><td>0.02</td><td>0.15</td></tr><tr><td>3</td><td>5.99</td><td>3.32</td><td>14.56</td><td>19.67</td><td>1.69</td><td>1.52</td><td>4.75</td><td>6.28</td><td>13.65</td><td>4.75</td><td>4.82</td><td>0.01</td><td>0.02</td></tr></tbody></table></div>"
      ]
     },
     "metadata": {
      "application/vnd.databricks.v1+output": {
       "addedWidgets": {},
       "aggData": [],
       "aggError": "",
       "aggOverflow": false,
       "aggSchema": [],
       "aggSeriesLimitReached": false,
       "aggType": "",
       "arguments": {},
       "columnCustomDisplayInfos": {},
       "data": [
        [
         1,
         87.13,
         456.16,
         1263.69,
         4164.48,
         267.84,
         244.98,
         127.41,
         181.14,
         206.78,
         131.53,
         129.65,
         0.05,
         0.36
        ],
        [
         4,
         1.15,
         0.18,
         0.35,
         2.36,
         0.17,
         0.18,
         1.69,
         1.96,
         10.11,
         2.16,
         2.09,
         0.02,
         0.17
        ],
        [
         2,
         2.38,
         0.04,
         0.06,
         0.45,
         0.03,
         0.04,
         2.07,
         2.52,
         11.58,
         2.26,
         2.39,
         0.02,
         0.15
        ],
        [
         3,
         5.99,
         3.32,
         14.56,
         19.67,
         1.69,
         1.52,
         4.75,
         6.28,
         13.65,
         4.75,
         4.82,
         0.01,
         0.02
        ]
       ],
       "datasetInfos": [],
       "dbfsResultPath": null,
       "isJsonSchema": true,
       "metadata": {},
       "overflow": false,
       "plotOptions": {
        "customPlotOptions": {},
        "displayType": "table",
        "pivotAggregation": null,
        "pivotColumns": null,
        "xColumns": null,
        "yColumns": null
       },
       "removedWidgets": [],
       "schema": [
        {
         "metadata": "{}",
         "name": "dataset_id",
         "type": "\"long\""
        },
        {
         "metadata": "{}",
         "name": "extract_time",
         "type": "\"double\""
        },
        {
         "metadata": "{}",
         "name": "file_size_avro_mb",
         "type": "\"double\""
        },
        {
         "metadata": "{}",
         "name": "file_size_csv_mb",
         "type": "\"double\""
        },
        {
         "metadata": "{}",
         "name": "file_size_delta_mb",
         "type": "\"double\""
        },
        {
         "metadata": "{}",
         "name": "file_size_orc_mb",
         "type": "\"double\""
        },
        {
         "metadata": "{}",
         "name": "file_size_parquet_mb",
         "type": "\"double\""
        },
        {
         "metadata": "{}",
         "name": "load_time_avro",
         "type": "\"double\""
        },
        {
         "metadata": "{}",
         "name": "load_time_csv",
         "type": "\"double\""
        },
        {
         "metadata": "{}",
         "name": "load_time_delta",
         "type": "\"double\""
        },
        {
         "metadata": "{}",
         "name": "load_time_orc",
         "type": "\"double\""
        },
        {
         "metadata": "{}",
         "name": "load_time_parquet",
         "type": "\"double\""
        },
        {
         "metadata": "{}",
         "name": "transform_dropna_time",
         "type": "\"double\""
        },
        {
         "metadata": "{}",
         "name": "transform_rename_columns_time",
         "type": "\"double\""
        }
       ],
       "type": "table"
      }
     },
     "output_type": "display_data"
    }
   ],
   "source": [
    "fact_metrics_df = spark.read.format(\"delta\").load(\"/dbfs/FileStore/bigdata/output_spark/fact_metrics_pyspark\")\n",
    "fact_metrics_df.display()"
   ]
  },
  {
   "cell_type": "code",
   "execution_count": 0,
   "metadata": {
    "application/vnd.databricks.v1+cell": {
     "cellMetadata": {
      "byteLimit": 2048000,
      "rowLimit": 10000
     },
     "inputWidgets": {},
     "nuid": "d3ffe451-f7e6-4097-8a26-8f0d3433d84b",
     "showTitle": false,
     "tableResultSettingsMap": {},
     "title": ""
    }
   },
   "outputs": [
    {
     "output_type": "display_data",
     "data": {
      "text/html": [
       "<style scoped>\n",
       "  .table-result-container {\n",
       "    max-height: 300px;\n",
       "    overflow: auto;\n",
       "  }\n",
       "  table, th, td {\n",
       "    border: 1px solid black;\n",
       "    border-collapse: collapse;\n",
       "  }\n",
       "  th, td {\n",
       "    padding: 5px;\n",
       "  }\n",
       "  th {\n",
       "    text-align: left;\n",
       "  }\n",
       "</style><div class='table-result-container'><table class='table-result'><thead style='background-color: white'><tr><th>dataset_id</th><th>extract_time</th><th>file_size_avro_mb</th><th>file_size_csv_mb</th><th>file_size_delta_mb</th><th>file_size_orc_mb</th><th>file_size_parquet_mb</th><th>load_time_avro</th><th>load_time_csv</th><th>load_time_delta</th><th>load_time_orc</th><th>load_time_parquet</th><th>transform_dropna_time</th><th>transform_rename_columns_time</th><th>id</th><th>dataset_name</th><th>number_of_rows</th></tr></thead><tbody><tr><td>1</td><td>87.13</td><td>456.16</td><td>1263.69</td><td>4164.48</td><td>267.84</td><td>244.98</td><td>127.41</td><td>181.14</td><td>206.78</td><td>131.53</td><td>129.65</td><td>0.05</td><td>0.36</td><td>1</td><td>transactions_data</td><td>13305915</td></tr><tr><td>4</td><td>1.15</td><td>0.18</td><td>0.35</td><td>2.36</td><td>0.17</td><td>0.18</td><td>1.69</td><td>1.96</td><td>10.11</td><td>2.16</td><td>2.09</td><td>0.02</td><td>0.17</td><td>4</td><td>locations</td><td>845</td></tr><tr><td>2</td><td>2.38</td><td>0.04</td><td>0.06</td><td>0.45</td><td>0.03</td><td>0.04</td><td>2.07</td><td>2.52</td><td>11.58</td><td>2.26</td><td>2.39</td><td>0.02</td><td>0.15</td><td>2</td><td>titanic</td><td>891</td></tr><tr><td>3</td><td>5.99</td><td>3.32</td><td>14.56</td><td>19.67</td><td>1.69</td><td>1.52</td><td>4.75</td><td>6.28</td><td>13.65</td><td>4.75</td><td>4.82</td><td>0.01</td><td>0.02</td><td>3</td><td>reviews</td><td>703796</td></tr></tbody></table></div>"
      ]
     },
     "metadata": {
      "application/vnd.databricks.v1+output": {
       "addedWidgets": {},
       "aggData": [],
       "aggError": "",
       "aggOverflow": false,
       "aggSchema": [],
       "aggSeriesLimitReached": false,
       "aggType": "",
       "arguments": {},
       "columnCustomDisplayInfos": {},
       "data": [
        [
         1,
         87.13,
         456.16,
         1263.69,
         4164.48,
         267.84,
         244.98,
         127.41,
         181.14,
         206.78,
         131.53,
         129.65,
         0.05,
         0.36,
         1,
         "transactions_data",
         13305915
        ],
        [
         4,
         1.15,
         0.18,
         0.35,
         2.36,
         0.17,
         0.18,
         1.69,
         1.96,
         10.11,
         2.16,
         2.09,
         0.02,
         0.17,
         4,
         "locations",
         845
        ],
        [
         2,
         2.38,
         0.04,
         0.06,
         0.45,
         0.03,
         0.04,
         2.07,
         2.52,
         11.58,
         2.26,
         2.39,
         0.02,
         0.15,
         2,
         "titanic",
         891
        ],
        [
         3,
         5.99,
         3.32,
         14.56,
         19.67,
         1.69,
         1.52,
         4.75,
         6.28,
         13.65,
         4.75,
         4.82,
         0.01,
         0.02,
         3,
         "reviews",
         703796
        ]
       ],
       "datasetInfos": [],
       "dbfsResultPath": null,
       "isJsonSchema": true,
       "metadata": {},
       "overflow": false,
       "plotOptions": {
        "customPlotOptions": {},
        "displayType": "table",
        "pivotAggregation": null,
        "pivotColumns": null,
        "xColumns": null,
        "yColumns": null
       },
       "removedWidgets": [],
       "schema": [
        {
         "metadata": "{}",
         "name": "dataset_id",
         "type": "\"long\""
        },
        {
         "metadata": "{}",
         "name": "extract_time",
         "type": "\"double\""
        },
        {
         "metadata": "{}",
         "name": "file_size_avro_mb",
         "type": "\"double\""
        },
        {
         "metadata": "{}",
         "name": "file_size_csv_mb",
         "type": "\"double\""
        },
        {
         "metadata": "{}",
         "name": "file_size_delta_mb",
         "type": "\"double\""
        },
        {
         "metadata": "{}",
         "name": "file_size_orc_mb",
         "type": "\"double\""
        },
        {
         "metadata": "{}",
         "name": "file_size_parquet_mb",
         "type": "\"double\""
        },
        {
         "metadata": "{}",
         "name": "load_time_avro",
         "type": "\"double\""
        },
        {
         "metadata": "{}",
         "name": "load_time_csv",
         "type": "\"double\""
        },
        {
         "metadata": "{}",
         "name": "load_time_delta",
         "type": "\"double\""
        },
        {
         "metadata": "{}",
         "name": "load_time_orc",
         "type": "\"double\""
        },
        {
         "metadata": "{}",
         "name": "load_time_parquet",
         "type": "\"double\""
        },
        {
         "metadata": "{}",
         "name": "transform_dropna_time",
         "type": "\"double\""
        },
        {
         "metadata": "{}",
         "name": "transform_rename_columns_time",
         "type": "\"double\""
        },
        {
         "metadata": "{}",
         "name": "id",
         "type": "\"long\""
        },
        {
         "metadata": "{}",
         "name": "dataset_name",
         "type": "\"string\""
        },
        {
         "metadata": "{}",
         "name": "number_of_rows",
         "type": "\"long\""
        }
       ],
       "type": "table"
      }
     },
     "output_type": "display_data"
    },
    {
     "output_type": "display_data",
     "data": {
      "text/plain": [
       "Databricks visualization. Run in Databricks to view."
      ]
     },
     "metadata": {
      "application/vnd.databricks.v1.subcommand+json": {
       "baseErrorDetails": null,
       "bindings": {},
       "collapsed": false,
       "command": "%python\n__backend_agg_display_orig = display\n__backend_agg_dfs = []\ndef __backend_agg_display_new(df):\n    __backend_agg_df_modules = [\"pandas.core.frame\", \"databricks.koalas.frame\", \"pyspark.sql.dataframe\", \"pyspark.pandas.frame\", \"pyspark.sql.connect.dataframe\"]\n    if (type(df).__module__ in __backend_agg_df_modules and type(df).__name__ == 'DataFrame') or isinstance(df, list):\n        __backend_agg_dfs.append(df)\n\ndisplay = __backend_agg_display_new\n\ndef __backend_agg_user_code_fn():\n    import base64\n    exec(base64.standard_b64decode(\"ZGZfZmluYWwgPSBmYWN0X21ldHJpY3NfZGYgXAogICAgLmpvaW4oCiAgICAgICAgZGltX2RhdGFzZXRzX2RmLnNlbGVjdCgiaWQiLCAiZGF0YXNldF9uYW1lIiwgIm51bWJlcl9vZl9yb3dzIiksIAogICAgICAgIGZhY3RfbWV0cmljc19kZlsiZGF0YXNldF9pZCJdID09IGRpbV9kYXRhc2V0c19kZlsiaWQiXSwKICAgICAgICBob3c9ImxlZnQiIAogICAgKQoKZGZfZmluYWwuZGlzcGxheSgp\").decode())\n\ntry:\n    # run user code\n    __backend_agg_user_code_fn()\n\n    #reset display function\n    display = __backend_agg_display_orig\n\n    if len(__backend_agg_dfs) > 0:\n        # create a temp view\n        if type(__backend_agg_dfs[0]).__module__ == \"databricks.koalas.frame\":\n            # koalas dataframe\n            __backend_agg_dfs[0].to_spark().createOrReplaceTempView(\"DatabricksView38032e7\")\n        elif type(__backend_agg_dfs[0]).__module__ == \"pandas.core.frame\" or isinstance(__backend_agg_dfs[0], list):\n            # pandas dataframe\n            spark.createDataFrame(__backend_agg_dfs[0]).createOrReplaceTempView(\"DatabricksView38032e7\")\n        else:\n            __backend_agg_dfs[0].createOrReplaceTempView(\"DatabricksView38032e7\")\n        #run backend agg\n        display(spark.sql(\"\"\"WITH q AS (select * from DatabricksView38032e7) SELECT `dataset_name`,SUM(`extract_time`) `column_2022f2ad29`,SUM(`transform_dropna_time`) `column_2022f2ad30`,SUM(`transform_rename_columns_time`) `column_2022f2ad31`,SUM(`load_time_avro`) `column_2022f2ad32`,SUM(`load_time_csv`) `column_2022f2ad33`,SUM(`load_time_delta`) `column_2022f2ad34`,SUM(`load_time_parquet`) `column_2022f2ad35` FROM q GROUP BY `dataset_name`\"\"\"))\n    else:\n        displayHTML(\"dataframe no longer exists. If you're using dataframe.display(), use display(dataframe) instead.\")\n\n\nfinally:\n    spark.sql(\"drop view if exists DatabricksView38032e7\")\n    display = __backend_agg_display_orig\n    del __backend_agg_display_new\n    del __backend_agg_display_orig\n    del __backend_agg_dfs\n    del __backend_agg_user_code_fn\n\n",
       "commandTitle": "Visualization 1",
       "commandType": "auto",
       "commandVersion": 0,
       "commentThread": [],
       "commentsVisible": false,
       "contentSha256Hex": null,
       "customPlotOptions": {
        "redashChart": [
         {
          "key": "type",
          "value": "CHART"
         },
         {
          "key": "options",
          "value": {
           "alignYAxesAtZero": true,
           "coefficient": 1,
           "columnConfigurationMap": {
            "x": {
             "column": "dataset_name",
             "id": "column_2022f2ad1"
            },
            "y": [
             {
              "column": "extract_time",
              "id": "column_2022f2ad29",
              "transform": "SUM"
             },
             {
              "column": "transform_dropna_time",
              "id": "column_2022f2ad30",
              "transform": "SUM"
             },
             {
              "column": "transform_rename_columns_time",
              "id": "column_2022f2ad31",
              "transform": "SUM"
             },
             {
              "column": "load_time_avro",
              "id": "column_2022f2ad32",
              "transform": "SUM"
             },
             {
              "column": "load_time_csv",
              "id": "column_2022f2ad33",
              "transform": "SUM"
             },
             {
              "column": "load_time_delta",
              "id": "column_2022f2ad34",
              "transform": "SUM"
             },
             {
              "column": "load_time_parquet",
              "id": "column_2022f2ad35",
              "transform": "SUM"
             }
            ]
           },
           "dateTimeFormat": "DD/MM/YYYY HH:mm",
           "direction": {
            "type": "counterclockwise"
           },
           "error_y": {
            "type": "data",
            "visible": true
           },
           "globalSeriesType": "column",
           "isAggregationOn": true,
           "legend": {
            "traceorder": "normal"
           },
           "missingValuesAsZero": true,
           "numberFormat": "0,0.[00000]",
           "percentFormat": "0[.]00%",
           "series": {
            "error_y": {
             "type": "data",
             "visible": true
            },
            "stacking": null
           },
           "seriesOptions": {
            "column_2022f2ad29": {
             "color": "#C63FA9",
             "type": "column",
             "yAxis": 0
            },
            "column_2022f2ad3": {
             "type": "column",
             "yAxis": 0
            },
            "column_2022f2ad30": {
             "type": "column",
             "yAxis": 0
            },
            "column_2022f2ad31": {
             "type": "column",
             "yAxis": 0
            },
            "column_2022f2ad32": {
             "type": "column",
             "yAxis": 0
            },
            "column_2022f2ad33": {
             "color": "#002FB4",
             "type": "column",
             "yAxis": 0
            },
            "column_2022f2ad34": {
             "type": "column",
             "yAxis": 0
            },
            "column_2022f2ad35": {
             "color": "#049235",
             "type": "column",
             "yAxis": 0
            },
            "dataset_id": {
             "type": "column",
             "yAxis": 0
            },
            "extract_time": {
             "color": "#C63FA9",
             "type": "column",
             "yAxis": 0
            },
            "load_time_avro": {
             "type": "column",
             "yAxis": 0
            },
            "load_time_csv": {
             "color": "#002FB4",
             "type": "column",
             "yAxis": 0
            },
            "load_time_delta": {
             "type": "column",
             "yAxis": 0
            },
            "load_time_parquet": {
             "color": "#049235",
             "type": "column",
             "yAxis": 0
            },
            "transform_dropna_time": {
             "type": "column",
             "yAxis": 0
            },
            "transform_rename_columns_time": {
             "type": "column",
             "yAxis": 0
            }
           },
           "showDataLabels": false,
           "sizemode": "diameter",
           "sortX": true,
           "sortY": true,
           "swappedAxes": false,
           "textFormat": "",
           "useAggregationsUi": true,
           "valuesOptions": {},
           "version": 2,
           "xAxis": {
            "labels": {
             "enabled": true
            },
            "title": {
             "text": "Dataset Name"
            },
            "type": "-"
           },
           "yAxis": [
            {
             "title": {
              "text": "Tempo (s)"
             },
             "type": "-"
            },
            {
             "opposite": true,
             "type": "-"
            }
           ]
          }
         }
        ]
       },
       "datasetPreviewNameToCmdIdMap": {},
       "diffDeletes": [],
       "diffInserts": [],
       "displayType": "redashChart",
       "error": null,
       "errorDetails": null,
       "errorSummary": null,
       "errorTraceType": null,
       "finishTime": 0,
       "globalVars": {},
       "guid": "",
       "height": "auto",
       "hideCommandCode": false,
       "hideCommandResult": false,
       "iPythonMetadata": null,
       "inputWidgets": {},
       "isLockedInExamMode": false,
       "latestUser": "a user",
       "latestUserId": null,
       "listResultMetadata": null,
       "metadata": {
        "byteLimit": 2048000,
        "rowLimit": 10000
       },
       "nuid": "0a2f8526-dd45-44d5-8e40-473079ca5f68",
       "origId": 0,
       "parentHierarchy": [],
       "pivotAggregation": null,
       "pivotColumns": null,
       "position": 6.9375,
       "resultDbfsErrorMessage": null,
       "resultDbfsStatus": "INLINED_IN_TREE",
       "results": null,
       "showCommandTitle": false,
       "startTime": 0,
       "state": "finished",
       "streamStates": {},
       "subcommandOptions": {
        "queryPlan": {
         "groups": [
          {
           "column": "dataset_name",
           "type": "column"
          }
         ],
         "selects": [
          {
           "column": "dataset_name",
           "type": "column"
          },
          {
           "alias": "column_2022f2ad29",
           "args": [
            {
             "column": "extract_time",
             "type": "column"
            }
           ],
           "function": "SUM",
           "type": "function"
          },
          {
           "alias": "column_2022f2ad30",
           "args": [
            {
             "column": "transform_dropna_time",
             "type": "column"
            }
           ],
           "function": "SUM",
           "type": "function"
          },
          {
           "alias": "column_2022f2ad31",
           "args": [
            {
             "column": "transform_rename_columns_time",
             "type": "column"
            }
           ],
           "function": "SUM",
           "type": "function"
          },
          {
           "alias": "column_2022f2ad32",
           "args": [
            {
             "column": "load_time_avro",
             "type": "column"
            }
           ],
           "function": "SUM",
           "type": "function"
          },
          {
           "alias": "column_2022f2ad33",
           "args": [
            {
             "column": "load_time_csv",
             "type": "column"
            }
           ],
           "function": "SUM",
           "type": "function"
          },
          {
           "alias": "column_2022f2ad34",
           "args": [
            {
             "column": "load_time_delta",
             "type": "column"
            }
           ],
           "function": "SUM",
           "type": "function"
          },
          {
           "alias": "column_2022f2ad35",
           "args": [
            {
             "column": "load_time_parquet",
             "type": "column"
            }
           ],
           "function": "SUM",
           "type": "function"
          }
         ]
        }
       },
       "submitTime": 0,
       "subtype": "tableResultSubCmd.visualization",
       "tableResultIndex": 0,
       "tableResultSettingsMap": {},
       "useConsistentColors": false,
       "version": "CommandV1",
       "width": "auto",
       "workflows": [],
       "xColumns": null,
       "yColumns": null
      }
     },
     "output_type": "display_data"
    },
    {
     "output_type": "display_data",
     "data": {
      "text/plain": [
       "Databricks visualization. Run in Databricks to view."
      ]
     },
     "metadata": {
      "application/vnd.databricks.v1.subcommand+json": {
       "baseErrorDetails": null,
       "bindings": {},
       "collapsed": false,
       "command": "%python\n__backend_agg_display_orig = display\n__backend_agg_dfs = []\ndef __backend_agg_display_new(df):\n    __backend_agg_df_modules = [\"pandas.core.frame\", \"databricks.koalas.frame\", \"pyspark.sql.dataframe\", \"pyspark.pandas.frame\", \"pyspark.sql.connect.dataframe\"]\n    if (type(df).__module__ in __backend_agg_df_modules and type(df).__name__ == 'DataFrame') or isinstance(df, list):\n        __backend_agg_dfs.append(df)\n\ndisplay = __backend_agg_display_new\n\ndef __backend_agg_user_code_fn():\n    import base64\n    exec(base64.standard_b64decode(\"ZGZfZmluYWwgPSBmYWN0X21ldHJpY3NfZGYgXAogICAgLmpvaW4oCiAgICAgICAgZGltX2RhdGFzZXRzX2RmLnNlbGVjdCgiaWQiLCAiZGF0YXNldF9uYW1lIiwgIm51bWJlcl9vZl9yb3dzIiksIAogICAgICAgIGZhY3RfbWV0cmljc19kZlsiZGF0YXNldF9pZCJdID09IGRpbV9kYXRhc2V0c19kZlsiaWQiXSwKICAgICAgICBob3c9ImxlZnQiIAogICAgKQoKZGZfZmluYWwuZGlzcGxheSgp\").decode())\n\ntry:\n    # run user code\n    __backend_agg_user_code_fn()\n\n    #reset display function\n    display = __backend_agg_display_orig\n\n    if len(__backend_agg_dfs) > 0:\n        # create a temp view\n        if type(__backend_agg_dfs[0]).__module__ == \"databricks.koalas.frame\":\n            # koalas dataframe\n            __backend_agg_dfs[0].to_spark().createOrReplaceTempView(\"DatabricksViewd6fee2e\")\n        elif type(__backend_agg_dfs[0]).__module__ == \"pandas.core.frame\" or isinstance(__backend_agg_dfs[0], list):\n            # pandas dataframe\n            spark.createDataFrame(__backend_agg_dfs[0]).createOrReplaceTempView(\"DatabricksViewd6fee2e\")\n        else:\n            __backend_agg_dfs[0].createOrReplaceTempView(\"DatabricksViewd6fee2e\")\n        #run backend agg\n        display(spark.sql(\"\"\"WITH q AS (select * from DatabricksViewd6fee2e) SELECT `dataset_name`,SUM(`file_size_avro_mb`) `column_2022f2ad41`,SUM(`file_size_csv_mb`) `column_2022f2ad44`,SUM(`file_size_delta_mb`) `column_2022f2ad47`,SUM(`file_size_parquet_mb`) `column_2022f2ad50` FROM q GROUP BY `dataset_name`\"\"\"))\n    else:\n        displayHTML(\"dataframe no longer exists. If you're using dataframe.display(), use display(dataframe) instead.\")\n\n\nfinally:\n    spark.sql(\"drop view if exists DatabricksViewd6fee2e\")\n    display = __backend_agg_display_orig\n    del __backend_agg_display_new\n    del __backend_agg_display_orig\n    del __backend_agg_dfs\n    del __backend_agg_user_code_fn\n\n",
       "commandTitle": "Visualization 2",
       "commandType": "auto",
       "commandVersion": 0,
       "commentThread": [],
       "commentsVisible": false,
       "contentSha256Hex": null,
       "customPlotOptions": {
        "redashChart": [
         {
          "key": "type",
          "value": "CHART"
         },
         {
          "key": "options",
          "value": {
           "alignYAxesAtZero": true,
           "coefficient": 1,
           "columnConfigurationMap": {
            "x": {
             "column": "dataset_name",
             "id": "column_2022f2ad36"
            },
            "y": [
             {
              "column": "file_size_avro_mb",
              "id": "column_2022f2ad41",
              "transform": "SUM"
             },
             {
              "column": "file_size_csv_mb",
              "id": "column_2022f2ad44",
              "transform": "SUM"
             },
             {
              "column": "file_size_delta_mb",
              "id": "column_2022f2ad47",
              "transform": "SUM"
             },
             {
              "column": "file_size_parquet_mb",
              "id": "column_2022f2ad50",
              "transform": "SUM"
             }
            ]
           },
           "dateTimeFormat": "DD/MM/YYYY HH:mm",
           "direction": {
            "type": "counterclockwise"
           },
           "error_y": {
            "type": "data",
            "visible": true
           },
           "globalSeriesType": "column",
           "isAggregationOn": true,
           "legend": {
            "traceorder": "normal"
           },
           "missingValuesAsZero": true,
           "numberFormat": "0,0.[00000]",
           "percentFormat": "0[.]00%",
           "series": {
            "error_y": {
             "type": "data",
             "visible": true
            },
            "stacking": null
           },
           "seriesOptions": {
            "column_2022f2ad38": {
             "type": "column",
             "yAxis": 0
            },
            "column_2022f2ad41": {
             "type": "column",
             "yAxis": 0
            },
            "column_2022f2ad44": {
             "type": "column",
             "yAxis": 0
            },
            "column_2022f2ad47": {
             "type": "column",
             "yAxis": 0
            },
            "column_2022f2ad50": {
             "type": "column",
             "yAxis": 0
            }
           },
           "showDataLabels": false,
           "sizemode": "diameter",
           "sortX": true,
           "sortY": true,
           "swappedAxes": false,
           "textFormat": "",
           "useAggregationsUi": true,
           "valuesOptions": {},
           "version": 2,
           "xAxis": {
            "labels": {
             "enabled": true
            },
            "type": "-"
           },
           "yAxis": [
            {
             "type": "-"
            },
            {
             "opposite": true,
             "type": "-"
            }
           ]
          }
         }
        ]
       },
       "datasetPreviewNameToCmdIdMap": {},
       "diffDeletes": [],
       "diffInserts": [],
       "displayType": "redashChart",
       "error": null,
       "errorDetails": null,
       "errorSummary": null,
       "errorTraceType": null,
       "finishTime": 0,
       "globalVars": {},
       "guid": "",
       "height": "auto",
       "hideCommandCode": false,
       "hideCommandResult": false,
       "iPythonMetadata": null,
       "inputWidgets": {},
       "isLockedInExamMode": false,
       "latestUser": "a user",
       "latestUserId": null,
       "listResultMetadata": null,
       "metadata": {
        "byteLimit": 2048000,
        "rowLimit": 10000
       },
       "nuid": "63f24655-fc92-44a9-bd27-b5d00982c4ff",
       "origId": 0,
       "parentHierarchy": [],
       "pivotAggregation": null,
       "pivotColumns": null,
       "position": 7.9375,
       "resultDbfsErrorMessage": null,
       "resultDbfsStatus": "INLINED_IN_TREE",
       "results": null,
       "showCommandTitle": false,
       "startTime": 0,
       "state": "finished",
       "streamStates": {},
       "subcommandOptions": {
        "queryPlan": {
         "groups": [
          {
           "column": "dataset_name",
           "type": "column"
          }
         ],
         "selects": [
          {
           "column": "dataset_name",
           "type": "column"
          },
          {
           "alias": "column_2022f2ad41",
           "args": [
            {
             "column": "file_size_avro_mb",
             "type": "column"
            }
           ],
           "function": "SUM",
           "type": "function"
          },
          {
           "alias": "column_2022f2ad44",
           "args": [
            {
             "column": "file_size_csv_mb",
             "type": "column"
            }
           ],
           "function": "SUM",
           "type": "function"
          },
          {
           "alias": "column_2022f2ad47",
           "args": [
            {
             "column": "file_size_delta_mb",
             "type": "column"
            }
           ],
           "function": "SUM",
           "type": "function"
          },
          {
           "alias": "column_2022f2ad50",
           "args": [
            {
             "column": "file_size_parquet_mb",
             "type": "column"
            }
           ],
           "function": "SUM",
           "type": "function"
          }
         ]
        }
       },
       "submitTime": 0,
       "subtype": "tableResultSubCmd.visualization",
       "tableResultIndex": 0,
       "tableResultSettingsMap": {},
       "useConsistentColors": false,
       "version": "CommandV1",
       "width": "auto",
       "workflows": [],
       "xColumns": null,
       "yColumns": null
      }
     },
     "output_type": "display_data"
    }
   ],
   "source": [
    "df_final = fact_metrics_df \\\n",
    "    .join(\n",
    "        dim_datasets_df.select(\"id\", \"dataset_name\", \"number_of_rows\"), \n",
    "        fact_metrics_df[\"dataset_id\"] == dim_datasets_df[\"id\"],\n",
    "        how=\"left\" \n",
    "    )\n",
    "\n",
    "df_final.display()"
   ]
  }
 ],
 "metadata": {
  "application/vnd.databricks.v1+notebook": {
   "dashboards": [],
   "environmentMetadata": null,
   "language": "python",
   "notebookMetadata": {
    "pythonIndentUnit": 4
   },
   "notebookName": "spark_analysis",
   "widgets": {}
  }
 },
 "nbformat": 4,
 "nbformat_minor": 0
}
